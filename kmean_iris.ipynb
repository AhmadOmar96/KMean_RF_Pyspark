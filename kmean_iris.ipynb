{
 "cells": [
  {
   "cell_type": "code",
   "execution_count": 9,
   "metadata": {
    "collapsed": true
   },
   "outputs": [],
   "source": [
    "from pyspark.sql import SparkSession\n",
    "from pyspark.ml.feature import VectorAssembler\n",
    "from pyspark.ml.feature import StandardScaler\n",
    "from pyspark.ml.clustering import KMeans\n",
    "from pyspark.ml.evaluation import ClusteringEvaluator\n",
    "from pyspark.ml import Pipeline\n",
    "from matplotlib.ticker import MaxNLocator\n",
    "import matplotlib.pyplot as plt"
   ]
  },
  {
   "cell_type": "code",
   "execution_count": 10,
   "outputs": [],
   "source": [
    "spark = SparkSession.builder.appName(\"Python Spark K-means\").getOrCreate()"
   ],
   "metadata": {
    "collapsed": false
   }
  },
  {
   "cell_type": "code",
   "execution_count": 11,
   "outputs": [],
   "source": [
    "df = spark.read.csv(\"datasets\\iris.csv\", header = True, inferSchema = True, nullValue = 'NA')"
   ],
   "metadata": {
    "collapsed": false
   }
  },
  {
   "cell_type": "code",
   "execution_count": 12,
   "outputs": [
    {
     "name": "stdout",
     "output_type": "stream",
     "text": [
      "+------------+-----------+------------+-----------+-----------+\n",
      "|sepal_length|sepal_width|petal_length|petal_width|    species|\n",
      "+------------+-----------+------------+-----------+-----------+\n",
      "|         5.1|        3.5|         1.4|        0.2|Iris-setosa|\n",
      "|         4.9|        3.0|         1.4|        0.2|Iris-setosa|\n",
      "|         4.7|        3.2|         1.3|        0.2|Iris-setosa|\n",
      "|         4.6|        3.1|         1.5|        0.2|Iris-setosa|\n",
      "|         5.0|        3.6|         1.4|        0.2|Iris-setosa|\n",
      "+------------+-----------+------------+-----------+-----------+\n",
      "only showing top 5 rows\n",
      "\n"
     ]
    }
   ],
   "source": [
    "df.show(5,True)"
   ],
   "metadata": {
    "collapsed": false
   }
  },
  {
   "cell_type": "code",
   "execution_count": 13,
   "outputs": [
    {
     "name": "stdout",
     "output_type": "stream",
     "text": [
      "root\n",
      " |-- sepal_length: double (nullable = true)\n",
      " |-- sepal_width: double (nullable = true)\n",
      " |-- petal_length: double (nullable = true)\n",
      " |-- petal_width: double (nullable = true)\n",
      " |-- species: string (nullable = true)\n",
      "\n"
     ]
    }
   ],
   "source": [
    "df.printSchema()"
   ],
   "metadata": {
    "collapsed": false
   }
  },
  {
   "cell_type": "code",
   "execution_count": 14,
   "outputs": [],
   "source": [
    "df = df.na.drop()"
   ],
   "metadata": {
    "collapsed": false
   }
  },
  {
   "cell_type": "code",
   "execution_count": 15,
   "outputs": [
    {
     "data": {
      "text/plain": "['sepal_length', 'sepal_width', 'petal_length', 'petal_width', 'species']"
     },
     "execution_count": 15,
     "metadata": {},
     "output_type": "execute_result"
    }
   ],
   "source": [
    "df.columns"
   ],
   "metadata": {
    "collapsed": false
   }
  },
  {
   "cell_type": "code",
   "execution_count": 16,
   "outputs": [],
   "source": [
    "assemble=VectorAssembler(inputCols=[\n",
    " 'sepal_length',\n",
    " 'sepal_width',\n",
    " 'petal_length',\n",
    " 'petal_width'], outputCol='features')"
   ],
   "metadata": {
    "collapsed": false
   }
  },
  {
   "cell_type": "code",
   "execution_count": 17,
   "outputs": [],
   "source": [
    "assembled_data=assemble.transform(df)"
   ],
   "metadata": {
    "collapsed": false
   }
  },
  {
   "cell_type": "code",
   "execution_count": 19,
   "outputs": [
    {
     "name": "stdout",
     "output_type": "stream",
     "text": [
      "+------------+-----------+------------+-----------+-----------+-----------------+\n",
      "|sepal_length|sepal_width|petal_length|petal_width|    species|         features|\n",
      "+------------+-----------+------------+-----------+-----------+-----------------+\n",
      "|         5.1|        3.5|         1.4|        0.2|Iris-setosa|[5.1,3.5,1.4,0.2]|\n",
      "|         4.9|        3.0|         1.4|        0.2|Iris-setosa|[4.9,3.0,1.4,0.2]|\n",
      "|         4.7|        3.2|         1.3|        0.2|Iris-setosa|[4.7,3.2,1.3,0.2]|\n",
      "|         4.6|        3.1|         1.5|        0.2|Iris-setosa|[4.6,3.1,1.5,0.2]|\n",
      "|         5.0|        3.6|         1.4|        0.2|Iris-setosa|[5.0,3.6,1.4,0.2]|\n",
      "+------------+-----------+------------+-----------+-----------+-----------------+\n",
      "only showing top 5 rows\n",
      "\n"
     ]
    }
   ],
   "source": [
    "assembled_data.show(5)"
   ],
   "metadata": {
    "collapsed": false
   }
  },
  {
   "cell_type": "code",
   "execution_count": 20,
   "outputs": [],
   "source": [
    "scale=StandardScaler(inputCol='features',outputCol='standardized')"
   ],
   "metadata": {
    "collapsed": false
   }
  },
  {
   "cell_type": "code",
   "execution_count": 21,
   "outputs": [],
   "source": [
    "data_scale=scale.fit(assembled_data)"
   ],
   "metadata": {
    "collapsed": false
   }
  },
  {
   "cell_type": "code",
   "execution_count": 22,
   "outputs": [],
   "source": [
    "data_scale_output=data_scale.transform(assembled_data)"
   ],
   "metadata": {
    "collapsed": false
   }
  },
  {
   "cell_type": "code",
   "execution_count": 24,
   "outputs": [
    {
     "name": "stdout",
     "output_type": "stream",
     "text": [
      "+------------+-----------+------------+-----------+-----------+-----------------+--------------------+\n",
      "|sepal_length|sepal_width|petal_length|petal_width|    species|         features|        standardized|\n",
      "+------------+-----------+------------+-----------+-----------+-----------------+--------------------+\n",
      "|         5.1|        3.5|         1.4|        0.2|Iris-setosa|[5.1,3.5,1.4,0.2]|[6.15892840883878...|\n",
      "|         4.9|        3.0|         1.4|        0.2|Iris-setosa|[4.9,3.0,1.4,0.2]|[5.9174018045706,...|\n",
      "+------------+-----------+------------+-----------+-----------+-----------------+--------------------+\n",
      "only showing top 2 rows\n",
      "\n"
     ]
    }
   ],
   "source": [
    "data_scale_output.show(2)"
   ],
   "metadata": {
    "collapsed": false
   }
  },
  {
   "cell_type": "code",
   "execution_count": 25,
   "outputs": [],
   "source": [
    "silhouette_score=[]"
   ],
   "metadata": {
    "collapsed": false
   }
  },
  {
   "cell_type": "code",
   "execution_count": 26,
   "outputs": [],
   "source": [
    "evaluator = ClusteringEvaluator(predictionCol='prediction', featuresCol='standardized',metricName='silhouette', distanceMeasure='squaredEuclidean')"
   ],
   "metadata": {
    "collapsed": false
   }
  },
  {
   "cell_type": "code",
   "execution_count": 28,
   "outputs": [
    {
     "name": "stdout",
     "output_type": "stream",
     "text": [
      "Silhouette Score: 0.7714149126311811  K is:  2\n",
      "Silhouette Score: 0.6435633372614079  K is:  3\n",
      "Silhouette Score: 0.5699683135611282  K is:  4\n",
      "Silhouette Score: 0.5588475451151954  K is:  5\n",
      "Silhouette Score: 0.4854031919898742  K is:  6\n",
      "Silhouette Score: 0.4610850243154621  K is:  7\n"
     ]
    }
   ],
   "source": [
    "for i in range(2,8):\n",
    "    KMeans_algo=KMeans(featuresCol='standardized', k=i)\n",
    "    KMeans_fit=KMeans_algo.fit(data_scale_output)\n",
    "    output=KMeans_fit.transform(data_scale_output)\n",
    "    score=evaluator.evaluate(output)\n",
    "    silhouette_score.append(score)\n",
    "    print(\"Silhouette Score:\", score, \" K is: \", str(i))"
   ],
   "metadata": {
    "collapsed": false
   }
  },
  {
   "cell_type": "code",
   "execution_count": 30,
   "outputs": [
    {
     "ename": "ValueError",
     "evalue": "x and y must have same first dimension, but have shapes (6,) and (12,)",
     "output_type": "error",
     "traceback": [
      "\u001B[1;31m---------------------------------------------------------------------------\u001B[0m",
      "\u001B[1;31mValueError\u001B[0m                                Traceback (most recent call last)",
      "Cell \u001B[1;32mIn[30], line 2\u001B[0m\n\u001B[0;32m      1\u001B[0m fig, ax \u001B[38;5;241m=\u001B[39m plt\u001B[38;5;241m.\u001B[39msubplots(\u001B[38;5;241m1\u001B[39m,\u001B[38;5;241m1\u001B[39m, figsize \u001B[38;5;241m=\u001B[39m(\u001B[38;5;241m6\u001B[39m,\u001B[38;5;241m4\u001B[39m))\n\u001B[1;32m----> 2\u001B[0m \u001B[43max\u001B[49m\u001B[38;5;241;43m.\u001B[39;49m\u001B[43mplot\u001B[49m\u001B[43m(\u001B[49m\u001B[38;5;28;43mrange\u001B[39;49m\u001B[43m(\u001B[49m\u001B[38;5;241;43m2\u001B[39;49m\u001B[43m,\u001B[49m\u001B[38;5;241;43m8\u001B[39;49m\u001B[43m)\u001B[49m\u001B[43m,\u001B[49m\u001B[43msilhouette_score\u001B[49m\u001B[43m)\u001B[49m\n\u001B[0;32m      3\u001B[0m ax\u001B[38;5;241m.\u001B[39mset_xlabel(\u001B[38;5;124m'\u001B[39m\u001B[38;5;124mK\u001B[39m\u001B[38;5;124m'\u001B[39m)\n\u001B[0;32m      4\u001B[0m ax\u001B[38;5;241m.\u001B[39mset_ylabel(\u001B[38;5;124m'\u001B[39m\u001B[38;5;124mvalue\u001B[39m\u001B[38;5;124m'\u001B[39m)\n",
      "File \u001B[1;32m~\\AppData\\Local\\Programs\\Python\\Python311\\Lib\\site-packages\\matplotlib\\axes\\_axes.py:1662\u001B[0m, in \u001B[0;36mAxes.plot\u001B[1;34m(self, scalex, scaley, data, *args, **kwargs)\u001B[0m\n\u001B[0;32m   1419\u001B[0m \u001B[38;5;124;03m\"\"\"\u001B[39;00m\n\u001B[0;32m   1420\u001B[0m \u001B[38;5;124;03mPlot y versus x as lines and/or markers.\u001B[39;00m\n\u001B[0;32m   1421\u001B[0m \n\u001B[1;32m   (...)\u001B[0m\n\u001B[0;32m   1659\u001B[0m \u001B[38;5;124;03m(``'green'``) or hex strings (``'#008000'``).\u001B[39;00m\n\u001B[0;32m   1660\u001B[0m \u001B[38;5;124;03m\"\"\"\u001B[39;00m\n\u001B[0;32m   1661\u001B[0m kwargs \u001B[38;5;241m=\u001B[39m cbook\u001B[38;5;241m.\u001B[39mnormalize_kwargs(kwargs, mlines\u001B[38;5;241m.\u001B[39mLine2D)\n\u001B[1;32m-> 1662\u001B[0m lines \u001B[38;5;241m=\u001B[39m [\u001B[38;5;241m*\u001B[39m\u001B[38;5;28mself\u001B[39m\u001B[38;5;241m.\u001B[39m_get_lines(\u001B[38;5;241m*\u001B[39margs, data\u001B[38;5;241m=\u001B[39mdata, \u001B[38;5;241m*\u001B[39m\u001B[38;5;241m*\u001B[39mkwargs)]\n\u001B[0;32m   1663\u001B[0m \u001B[38;5;28;01mfor\u001B[39;00m line \u001B[38;5;129;01min\u001B[39;00m lines:\n\u001B[0;32m   1664\u001B[0m     \u001B[38;5;28mself\u001B[39m\u001B[38;5;241m.\u001B[39madd_line(line)\n",
      "File \u001B[1;32m~\\AppData\\Local\\Programs\\Python\\Python311\\Lib\\site-packages\\matplotlib\\axes\\_base.py:311\u001B[0m, in \u001B[0;36m_process_plot_var_args.__call__\u001B[1;34m(self, data, *args, **kwargs)\u001B[0m\n\u001B[0;32m    309\u001B[0m     this \u001B[38;5;241m+\u001B[39m\u001B[38;5;241m=\u001B[39m args[\u001B[38;5;241m0\u001B[39m],\n\u001B[0;32m    310\u001B[0m     args \u001B[38;5;241m=\u001B[39m args[\u001B[38;5;241m1\u001B[39m:]\n\u001B[1;32m--> 311\u001B[0m \u001B[38;5;28;01myield from\u001B[39;00m \u001B[38;5;28;43mself\u001B[39;49m\u001B[38;5;241;43m.\u001B[39;49m\u001B[43m_plot_args\u001B[49m\u001B[43m(\u001B[49m\n\u001B[0;32m    312\u001B[0m \u001B[43m    \u001B[49m\u001B[43mthis\u001B[49m\u001B[43m,\u001B[49m\u001B[43m \u001B[49m\u001B[43mkwargs\u001B[49m\u001B[43m,\u001B[49m\u001B[43m \u001B[49m\u001B[43mambiguous_fmt_datakey\u001B[49m\u001B[38;5;241;43m=\u001B[39;49m\u001B[43mambiguous_fmt_datakey\u001B[49m\u001B[43m)\u001B[49m\n",
      "File \u001B[1;32m~\\AppData\\Local\\Programs\\Python\\Python311\\Lib\\site-packages\\matplotlib\\axes\\_base.py:504\u001B[0m, in \u001B[0;36m_process_plot_var_args._plot_args\u001B[1;34m(self, tup, kwargs, return_kwargs, ambiguous_fmt_datakey)\u001B[0m\n\u001B[0;32m    501\u001B[0m     \u001B[38;5;28mself\u001B[39m\u001B[38;5;241m.\u001B[39maxes\u001B[38;5;241m.\u001B[39myaxis\u001B[38;5;241m.\u001B[39mupdate_units(y)\n\u001B[0;32m    503\u001B[0m \u001B[38;5;28;01mif\u001B[39;00m x\u001B[38;5;241m.\u001B[39mshape[\u001B[38;5;241m0\u001B[39m] \u001B[38;5;241m!=\u001B[39m y\u001B[38;5;241m.\u001B[39mshape[\u001B[38;5;241m0\u001B[39m]:\n\u001B[1;32m--> 504\u001B[0m     \u001B[38;5;28;01mraise\u001B[39;00m \u001B[38;5;167;01mValueError\u001B[39;00m(\u001B[38;5;124mf\u001B[39m\u001B[38;5;124m\"\u001B[39m\u001B[38;5;124mx and y must have same first dimension, but \u001B[39m\u001B[38;5;124m\"\u001B[39m\n\u001B[0;32m    505\u001B[0m                      \u001B[38;5;124mf\u001B[39m\u001B[38;5;124m\"\u001B[39m\u001B[38;5;124mhave shapes \u001B[39m\u001B[38;5;132;01m{\u001B[39;00mx\u001B[38;5;241m.\u001B[39mshape\u001B[38;5;132;01m}\u001B[39;00m\u001B[38;5;124m and \u001B[39m\u001B[38;5;132;01m{\u001B[39;00my\u001B[38;5;241m.\u001B[39mshape\u001B[38;5;132;01m}\u001B[39;00m\u001B[38;5;124m\"\u001B[39m)\n\u001B[0;32m    506\u001B[0m \u001B[38;5;28;01mif\u001B[39;00m x\u001B[38;5;241m.\u001B[39mndim \u001B[38;5;241m>\u001B[39m \u001B[38;5;241m2\u001B[39m \u001B[38;5;129;01mor\u001B[39;00m y\u001B[38;5;241m.\u001B[39mndim \u001B[38;5;241m>\u001B[39m \u001B[38;5;241m2\u001B[39m:\n\u001B[0;32m    507\u001B[0m     \u001B[38;5;28;01mraise\u001B[39;00m \u001B[38;5;167;01mValueError\u001B[39;00m(\u001B[38;5;124mf\u001B[39m\u001B[38;5;124m\"\u001B[39m\u001B[38;5;124mx and y can be no greater than 2D, but have \u001B[39m\u001B[38;5;124m\"\u001B[39m\n\u001B[0;32m    508\u001B[0m                      \u001B[38;5;124mf\u001B[39m\u001B[38;5;124m\"\u001B[39m\u001B[38;5;124mshapes \u001B[39m\u001B[38;5;132;01m{\u001B[39;00mx\u001B[38;5;241m.\u001B[39mshape\u001B[38;5;132;01m}\u001B[39;00m\u001B[38;5;124m and \u001B[39m\u001B[38;5;132;01m{\u001B[39;00my\u001B[38;5;241m.\u001B[39mshape\u001B[38;5;132;01m}\u001B[39;00m\u001B[38;5;124m\"\u001B[39m)\n",
      "\u001B[1;31mValueError\u001B[0m: x and y must have same first dimension, but have shapes (6,) and (12,)"
     ]
    },
    {
     "data": {
      "text/plain": "<Figure size 600x400 with 1 Axes>",
      "image/png": "[encoded data removed]"
     },
     "metadata": {},
     "output_type": "display_data"
    }
   ],
   "source": [
    "fig, ax = plt.subplots(1,1, figsize =(6,4))\n",
    "ax.plot(range(2,8),silhouette_score)\n",
    "ax.set_xlabel('K')\n",
    "ax.set_ylabel('value')\n",
    "ax.xaxis.set_major_locator(MaxNLocator(integer=True))\n",
    "plt.show()"
   ],
   "metadata": {
    "collapsed": false
   }
  },
  {
   "cell_type": "code",
   "execution_count": 31,
   "outputs": [],
   "source": [
    "kmeans = KMeans().setK(2).setFeaturesCol(\"features\").setPredictionCol(\"Cluster\")\n",
    "pipeline = Pipeline(stages=[kmeans])\n",
    "model = pipeline.fit(assembled_data)\n",
    "cluster = model.transform(assembled_data)"
   ],
   "metadata": {
    "collapsed": false
   }
  },
  {
   "cell_type": "code",
   "execution_count": 32,
   "outputs": [
    {
     "name": "stdout",
     "output_type": "stream",
     "text": [
      "+------------+-----------+------------+-----------+-----------+-----------------+-------+\n",
      "|sepal_length|sepal_width|petal_length|petal_width|    species|         features|Cluster|\n",
      "+------------+-----------+------------+-----------+-----------+-----------------+-------+\n",
      "|         5.1|        3.5|         1.4|        0.2|Iris-setosa|[5.1,3.5,1.4,0.2]|      1|\n",
      "|         4.9|        3.0|         1.4|        0.2|Iris-setosa|[4.9,3.0,1.4,0.2]|      1|\n",
      "|         4.7|        3.2|         1.3|        0.2|Iris-setosa|[4.7,3.2,1.3,0.2]|      1|\n",
      "|         4.6|        3.1|         1.5|        0.2|Iris-setosa|[4.6,3.1,1.5,0.2]|      1|\n",
      "|         5.0|        3.6|         1.4|        0.2|Iris-setosa|[5.0,3.6,1.4,0.2]|      1|\n",
      "|         5.4|        3.9|         1.7|        0.4|Iris-setosa|[5.4,3.9,1.7,0.4]|      1|\n",
      "|         4.6|        3.4|         1.4|        0.3|Iris-setosa|[4.6,3.4,1.4,0.3]|      1|\n",
      "|         5.0|        3.4|         1.5|        0.2|Iris-setosa|[5.0,3.4,1.5,0.2]|      1|\n",
      "|         4.4|        2.9|         1.4|        0.2|Iris-setosa|[4.4,2.9,1.4,0.2]|      1|\n",
      "|         4.9|        3.1|         1.5|        0.1|Iris-setosa|[4.9,3.1,1.5,0.1]|      1|\n",
      "+------------+-----------+------------+-----------+-----------+-----------------+-------+\n",
      "only showing top 10 rows\n",
      "\n"
     ]
    }
   ],
   "source": [
    "cluster.show(10,True)"
   ],
   "metadata": {
    "collapsed": false
   }
  },
  {
   "cell_type": "code",
   "execution_count": 34,
   "outputs": [
    {
     "name": "stdout",
     "output_type": "stream",
     "text": [
      "+------------+-----------+------------+-----------+---------------+-------+\n",
      "|sepal_length|sepal_width|petal_length|petal_width|        species|Cluster|\n",
      "+------------+-----------+------------+-----------+---------------+-------+\n",
      "|         5.1|        3.5|         1.4|        0.2|    Iris-setosa|      1|\n",
      "|         4.9|        3.0|         1.4|        0.2|    Iris-setosa|      1|\n",
      "|         4.7|        3.2|         1.3|        0.2|    Iris-setosa|      1|\n",
      "|         4.6|        3.1|         1.5|        0.2|    Iris-setosa|      1|\n",
      "|         5.0|        3.6|         1.4|        0.2|    Iris-setosa|      1|\n",
      "|         5.4|        3.9|         1.7|        0.4|    Iris-setosa|      1|\n",
      "|         4.6|        3.4|         1.4|        0.3|    Iris-setosa|      1|\n",
      "|         5.0|        3.4|         1.5|        0.2|    Iris-setosa|      1|\n",
      "|         4.4|        2.9|         1.4|        0.2|    Iris-setosa|      1|\n",
      "|         4.9|        3.1|         1.5|        0.1|    Iris-setosa|      1|\n",
      "|         5.4|        3.7|         1.5|        0.2|    Iris-setosa|      1|\n",
      "|         4.8|        3.4|         1.6|        0.2|    Iris-setosa|      1|\n",
      "|         4.8|        3.0|         1.4|        0.1|    Iris-setosa|      1|\n",
      "|         4.3|        3.0|         1.1|        0.1|    Iris-setosa|      1|\n",
      "|         5.8|        4.0|         1.2|        0.2|    Iris-setosa|      1|\n",
      "|         5.7|        4.4|         1.5|        0.4|    Iris-setosa|      1|\n",
      "|         5.4|        3.9|         1.3|        0.4|    Iris-setosa|      1|\n",
      "|         5.1|        3.5|         1.4|        0.3|    Iris-setosa|      1|\n",
      "|         5.7|        3.8|         1.7|        0.3|    Iris-setosa|      1|\n",
      "|         5.1|        3.8|         1.5|        0.3|    Iris-setosa|      1|\n",
      "|         5.4|        3.4|         1.7|        0.2|    Iris-setosa|      1|\n",
      "|         5.1|        3.7|         1.5|        0.4|    Iris-setosa|      1|\n",
      "|         4.6|        3.6|         1.0|        0.2|    Iris-setosa|      1|\n",
      "|         5.1|        3.3|         1.7|        0.5|    Iris-setosa|      1|\n",
      "|         4.8|        3.4|         1.9|        0.2|    Iris-setosa|      1|\n",
      "|         5.0|        3.0|         1.6|        0.2|    Iris-setosa|      1|\n",
      "|         5.0|        3.4|         1.6|        0.4|    Iris-setosa|      1|\n",
      "|         5.2|        3.5|         1.5|        0.2|    Iris-setosa|      1|\n",
      "|         5.2|        3.4|         1.4|        0.2|    Iris-setosa|      1|\n",
      "|         4.7|        3.2|         1.6|        0.2|    Iris-setosa|      1|\n",
      "|         4.8|        3.1|         1.6|        0.2|    Iris-setosa|      1|\n",
      "|         5.4|        3.4|         1.5|        0.4|    Iris-setosa|      1|\n",
      "|         5.2|        4.1|         1.5|        0.1|    Iris-setosa|      1|\n",
      "|         5.5|        4.2|         1.4|        0.2|    Iris-setosa|      1|\n",
      "|         4.9|        3.1|         1.5|        0.1|    Iris-setosa|      1|\n",
      "|         5.0|        3.2|         1.2|        0.2|    Iris-setosa|      1|\n",
      "|         5.5|        3.5|         1.3|        0.2|    Iris-setosa|      1|\n",
      "|         4.9|        3.1|         1.5|        0.1|    Iris-setosa|      1|\n",
      "|         4.4|        3.0|         1.3|        0.2|    Iris-setosa|      1|\n",
      "|         5.1|        3.4|         1.5|        0.2|    Iris-setosa|      1|\n",
      "|         5.0|        3.5|         1.3|        0.3|    Iris-setosa|      1|\n",
      "|         4.5|        2.3|         1.3|        0.3|    Iris-setosa|      1|\n",
      "|         4.4|        3.2|         1.3|        0.2|    Iris-setosa|      1|\n",
      "|         5.0|        3.5|         1.6|        0.6|    Iris-setosa|      1|\n",
      "|         5.1|        3.8|         1.9|        0.4|    Iris-setosa|      1|\n",
      "|         4.8|        3.0|         1.4|        0.3|    Iris-setosa|      1|\n",
      "|         5.1|        3.8|         1.6|        0.2|    Iris-setosa|      1|\n",
      "|         4.6|        3.2|         1.4|        0.2|    Iris-setosa|      1|\n",
      "|         5.3|        3.7|         1.5|        0.2|    Iris-setosa|      1|\n",
      "|         5.0|        3.3|         1.4|        0.2|    Iris-setosa|      1|\n",
      "|         7.0|        3.2|         4.7|        1.4|Iris-versicolor|      0|\n",
      "|         6.4|        3.2|         4.5|        1.5|Iris-versicolor|      0|\n",
      "|         6.9|        3.1|         4.9|        1.5|Iris-versicolor|      0|\n",
      "|         5.5|        2.3|         4.0|        1.3|Iris-versicolor|      0|\n",
      "|         6.5|        2.8|         4.6|        1.5|Iris-versicolor|      0|\n",
      "|         5.7|        2.8|         4.5|        1.3|Iris-versicolor|      0|\n",
      "|         6.3|        3.3|         4.7|        1.6|Iris-versicolor|      0|\n",
      "|         4.9|        2.4|         3.3|        1.0|Iris-versicolor|      1|\n",
      "|         6.6|        2.9|         4.6|        1.3|Iris-versicolor|      0|\n",
      "|         5.2|        2.7|         3.9|        1.4|Iris-versicolor|      0|\n",
      "|         5.0|        2.0|         3.5|        1.0|Iris-versicolor|      0|\n",
      "|         5.9|        3.0|         4.2|        1.5|Iris-versicolor|      0|\n",
      "|         6.0|        2.2|         4.0|        1.0|Iris-versicolor|      0|\n",
      "|         6.1|        2.9|         4.7|        1.4|Iris-versicolor|      0|\n",
      "|         5.6|        2.9|         3.6|        1.3|Iris-versicolor|      0|\n",
      "|         6.7|        3.1|         4.4|        1.4|Iris-versicolor|      0|\n",
      "|         5.6|        3.0|         4.5|        1.5|Iris-versicolor|      0|\n",
      "|         5.8|        2.7|         4.1|        1.0|Iris-versicolor|      0|\n",
      "|         6.2|        2.2|         4.5|        1.5|Iris-versicolor|      0|\n",
      "|         5.6|        2.5|         3.9|        1.1|Iris-versicolor|      0|\n",
      "|         5.9|        3.2|         4.8|        1.8|Iris-versicolor|      0|\n",
      "|         6.1|        2.8|         4.0|        1.3|Iris-versicolor|      0|\n",
      "|         6.3|        2.5|         4.9|        1.5|Iris-versicolor|      0|\n",
      "|         6.1|        2.8|         4.7|        1.2|Iris-versicolor|      0|\n",
      "|         6.4|        2.9|         4.3|        1.3|Iris-versicolor|      0|\n",
      "|         6.6|        3.0|         4.4|        1.4|Iris-versicolor|      0|\n",
      "|         6.8|        2.8|         4.8|        1.4|Iris-versicolor|      0|\n",
      "|         6.7|        3.0|         5.0|        1.7|Iris-versicolor|      0|\n",
      "|         6.0|        2.9|         4.5|        1.5|Iris-versicolor|      0|\n",
      "|         5.7|        2.6|         3.5|        1.0|Iris-versicolor|      0|\n",
      "|         5.5|        2.4|         3.8|        1.1|Iris-versicolor|      0|\n",
      "|         5.5|        2.4|         3.7|        1.0|Iris-versicolor|      0|\n",
      "|         5.8|        2.7|         3.9|        1.2|Iris-versicolor|      0|\n",
      "|         6.0|        2.7|         5.1|        1.6|Iris-versicolor|      0|\n",
      "|         5.4|        3.0|         4.5|        1.5|Iris-versicolor|      0|\n",
      "|         6.0|        3.4|         4.5|        1.6|Iris-versicolor|      0|\n",
      "|         6.7|        3.1|         4.7|        1.5|Iris-versicolor|      0|\n",
      "|         6.3|        2.3|         4.4|        1.3|Iris-versicolor|      0|\n",
      "|         5.6|        3.0|         4.1|        1.3|Iris-versicolor|      0|\n",
      "|         5.5|        2.5|         4.0|        1.3|Iris-versicolor|      0|\n",
      "|         5.5|        2.6|         4.4|        1.2|Iris-versicolor|      0|\n",
      "|         6.1|        3.0|         4.6|        1.4|Iris-versicolor|      0|\n",
      "|         5.8|        2.6|         4.0|        1.2|Iris-versicolor|      0|\n",
      "|         5.0|        2.3|         3.3|        1.0|Iris-versicolor|      1|\n",
      "|         5.6|        2.7|         4.2|        1.3|Iris-versicolor|      0|\n",
      "|         5.7|        3.0|         4.2|        1.2|Iris-versicolor|      0|\n",
      "|         5.7|        2.9|         4.2|        1.3|Iris-versicolor|      0|\n",
      "|         6.2|        2.9|         4.3|        1.3|Iris-versicolor|      0|\n",
      "|         5.1|        2.5|         3.0|        1.1|Iris-versicolor|      1|\n",
      "|         5.7|        2.8|         4.1|        1.3|Iris-versicolor|      0|\n",
      "+------------+-----------+------------+-----------+---------------+-------+\n",
      "only showing top 100 rows\n",
      "\n"
     ]
    }
   ],
   "source": [
    "df2 = cluster.drop('features')\n",
    "df2.show(100,True)"
   ],
   "metadata": {
    "collapsed": false
   }
  },
  {
   "cell_type": "code",
   "execution_count": null,
   "outputs": [],
   "source": [],
   "metadata": {
    "collapsed": false
   }
  }
 ],
 "metadata": {
  "kernelspec": {
   "display_name": "Python 3",
   "language": "python",
   "name": "python3"
  },
  "language_info": {
   "codemirror_mode": {
    "name": "ipython",
    "version": 2
   },
   "file_extension": ".py",
   "mimetype": "text/x-python",
   "name": "python",
   "nbconvert_exporter": "python",
   "pygments_lexer": "ipython2",
   "version": "2.7.6"
  }
 },
 "nbformat": 4,
 "nbformat_minor": 0
}
